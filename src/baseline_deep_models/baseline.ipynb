{
 "cells": [
  {
   "cell_type": "code",
   "execution_count": null,
   "metadata": {},
   "outputs": [
    {
     "ename": "",
     "evalue": "",
     "output_type": "error",
     "traceback": [
      "\u001b[1;31mRunning cells with 'twitter_sentiment_analysis-_BlaaxGs (Python 3.11.6)' requires the ipykernel package.\n",
      "\u001b[1;31mRun the following command to install 'ipykernel' into the Python environment. \n",
      "\u001b[1;31mCommand: '/Users/tunaberkalmaci/.local/share/virtualenvs/twitter_sentiment_analysis-_BlaaxGs/bin/python -m pip install ipykernel -U --force-reinstall'"
     ]
    }
   ],
   "source": [
    "import os\n",
    "import argparse\n",
    "import numpy as np\n",
    "import multiprocessing\n",
    "from typing import List\n",
    "import pandas as pd\n",
    "\n",
    "import sys\n",
    "filename = os.path.dirname(__file__)[:-1]\n",
    "filename = \"/\".join(filename.split(\"/\")[:-1])\n",
    "sys.path.append(os.path.join(filename, 'preprocess'))\n",
    "\n",
    "from tokenizer import Tokenizer\n",
    "from torchtext.vocab import GloVe\n",
    "from sklearn.model_selection import StratifiedKFold\n",
    "from sklearn.metrics import accuracy_score\n",
    "import torch\n",
    "import torch.nn as nn\n",
    "import torch.nn.functional as F\n",
    "from collections import Counter\n",
    "from torch.utils.data import TensorDataset, DataLoader\n",
    "\n",
    "if torch.cuda.is_available():\n",
    "    print(\"GPU is available\")\n",
    "else:\n",
    "    print(\"GPU is NOT available\")\n",
    "\n",
    "device = torch.device(\"gpu\") if torch.cuda.is_available() else torch.device(\"cpu\")"
   ]
  },
  {
   "cell_type": "code",
   "execution_count": null,
   "metadata": {},
   "outputs": [
    {
     "ename": "",
     "evalue": "",
     "output_type": "error",
     "traceback": [
      "\u001b[1;31mRunning cells with 'twitter_sentiment_analysis-_BlaaxGs (Python 3.11.6)' requires the ipykernel package.\n",
      "\u001b[1;31mRun the following command to install 'ipykernel' into the Python environment. \n",
      "\u001b[1;31mCommand: '/Users/tunaberkalmaci/.local/share/virtualenvs/twitter_sentiment_analysis-_BlaaxGs/bin/python -m pip install ipykernel -U --force-reinstall'"
     ]
    }
   ],
   "source": [
    "input_path = \"/Users/tunaberkalmaci/Downloads/twitter_sentiment_analysis/src/data/processed/processed.csv\"\n",
    "log_path = \"/Users/tunaberkalmaci/Downloads/twitter_sentiment_analysis/src/data/logs\"\n",
    "log_filename = \"logs\""
   ]
  },
  {
   "cell_type": "code",
   "execution_count": null,
   "metadata": {},
   "outputs": [
    {
     "ename": "",
     "evalue": "",
     "output_type": "error",
     "traceback": [
      "\u001b[1;31mRunning cells with 'twitter_sentiment_analysis-_BlaaxGs (Python 3.11.6)' requires the ipykernel package.\n",
      "\u001b[1;31mRun the following command to install 'ipykernel' into the Python environment. \n",
      "\u001b[1;31mCommand: '/Users/tunaberkalmaci/.local/share/virtualenvs/twitter_sentiment_analysis-_BlaaxGs/bin/python -m pip install ipykernel -U --force-reinstall'"
     ]
    }
   ],
   "source": [
    "data_type_name = \"lowercase_slangconv_nouser_nourl_hashtagsegmented_noextraspace_nostop_softlem_nonumbers\"\n",
    "train_df = pd.read_csv(input_path)\n",
    "train_df = train_df.dropna()\n",
    "tweets = np.array(train_df[\"tweet\"].values)\n",
    "labels = np.array(train_df[\"labels\"].values)"
   ]
  },
  {
   "cell_type": "code",
   "execution_count": null,
   "metadata": {},
   "outputs": [
    {
     "ename": "",
     "evalue": "",
     "output_type": "error",
     "traceback": [
      "\u001b[1;31mRunning cells with 'twitter_sentiment_analysis-_BlaaxGs (Python 3.11.6)' requires the ipykernel package.\n",
      "\u001b[1;31mRun the following command to install 'ipykernel' into the Python environment. \n",
      "\u001b[1;31mCommand: '/Users/tunaberkalmaci/.local/share/virtualenvs/twitter_sentiment_analysis-_BlaaxGs/bin/python -m pip install ipykernel -U --force-reinstall'"
     ]
    }
   ],
   "source": [
    "glove_dims = [100, 200]\n",
    "model_types = [\"bilstm\"]\n",
    "vocab_size = 25000\n",
    "batch_size = 64"
   ]
  },
  {
   "cell_type": "code",
   "execution_count": null,
   "metadata": {},
   "outputs": [
    {
     "ename": "",
     "evalue": "",
     "output_type": "error",
     "traceback": [
      "\u001b[1;31mRunning cells with 'twitter_sentiment_analysis-_BlaaxGs (Python 3.11.6)' requires the ipykernel package.\n",
      "\u001b[1;31mRun the following command to install 'ipykernel' into the Python environment. \n",
      "\u001b[1;31mCommand: '/Users/tunaberkalmaci/.local/share/virtualenvs/twitter_sentiment_analysis-_BlaaxGs/bin/python -m pip install ipykernel -U --force-reinstall'"
     ]
    }
   ],
   "source": [
    "skf = StratifiedKFold(n_splits=5, shuffle=True, random_state=42)\n",
    "aggregated_acc = []"
   ]
  },
  {
   "cell_type": "code",
   "execution_count": null,
   "metadata": {},
   "outputs": [],
   "source": [
    "class BiLSTM(nn.Module):\n",
    "    def __init__(self, num_layers, vocab_size, hidden_dim, embedding_dim, output_dim, drop_prob=0.2):\n",
    "        super(BiLSTM, self).__init__()\n",
    "        self.output_dim = output_dim\n",
    "        self.hidden_dim = hidden_dim\n",
    "\n",
    "        self.num_layers = num_layers\n",
    "        self.vocab_size = vocab_size\n",
    "\n",
    "        self.embedding = nn.Embedding(vocab_size, embedding_dim)\n",
    "\n",
    "        self.lstm = nn.LSTM(input_size=embedding_dim, hidden_size=self.hidden_dim, num_layers=self.num_layers, batch_first=True)\n",
    "\n",
    "        self.dropout = nn.Dropout(drop_prob)\n",
    "\n",
    "        self.fc = nn.Linear(self.hidden_dim, output_dim)\n",
    "        self.sig = nn.Sigmoid()\n",
    "\n",
    "    def forward(self, x, hidden):\n",
    "        bath_size = x.shape[0]\n",
    "        embedding = self.embedding(x)\n",
    "        lstm_out, hidden = self.lstm(embedding, hidden)\n",
    "        lstm_out = lstm_out.contiguous().view(-1, self.hidden_dim)\n",
    "        out = self.dropout(lstm_out)\n",
    "        out = self.fc(out)\n",
    "        sig_out = self.sig(out)\n",
    "        seg_out = sig_out.view(batch_size, -1)\n",
    "        sig_out = sig_out[:, -1]\n",
    "        return sig_out, hidden\n",
    "\n",
    "    def init_hidden(self, batch_size):\n",
    "        h0 = torch.zeros((self.num_layers, batch_size, self.hidden_dim)).to(device)\n",
    "        c0 = torch.zeros((self.num_layers, batch_size, self.hidden_dim)).to(device)\n",
    "        hidden = (h0, c0)\n",
    "        return hidden"
   ]
  },
  {
   "cell_type": "code",
   "execution_count": null,
   "metadata": {},
   "outputs": [],
   "source": [
    "for i, (train_indices, val_indices) in enumerate(skf.split(tweets, labels)):\n",
    "    training_tweets = tweets[train_indices]\n",
    "    val_tweets = tweets[val_indices]\n",
    "\n",
    "    training_labels = labels[train_indices]\n",
    "    val_labels = labels[val_indices]\n",
    "\n",
    "    accuracy = None\n",
    "    model = None\n",
    "\n",
    "    word_list = []\n",
    "\n",
    "    max_len = 0\n",
    "\n",
    "    for tweet in training_tweets:\n",
    "        max_len = max(max_len, len(tweet.split()))\n",
    "        for word in tweet.split():\n",
    "            word_list.append(word)\n",
    "\n",
    "    print(f\"Max length of a tweet is {max_len}\")\n",
    "    corpus = Counter(word_list)\n",
    "    corpus_ = sorted(corpus, key=corpus.get, reverse=True)[:vocab_size]\n",
    "    onehot_dict = {w:i+1 for i,w in enumerate(corpus_)}\n",
    "\n",
    "    final_training = []\n",
    "    final_val = []\n",
    "\n",
    "    for tweet in training_tweets:\n",
    "        final_training.append([onehot_dict[word] for word in tweet.split() if word in onehot_dict.keys()])\n",
    "\n",
    "    for tweet in val_tweets:\n",
    "        final_val.append([onehot_dict[word] for word in tweet.split() if word in onehot_dict.keys()])\n",
    "\n",
    "    train_padded = np.zeros((len(final_training), max_len), dtype=int)\n",
    "    val_padded = np.zeros((len(final_val), max_len), dtype=int)\n",
    "\n",
    "    for ii, tweet in enumerate(final_training):\n",
    "        if len(tweet) != 0:\n",
    "            train_padded[ii, -len(tweet):] = np.array(tweet)[:max_len]\n",
    "\n",
    "    for ii, tweet in enumerate(final_val):\n",
    "        if len(tweet) != 0:\n",
    "            val_padded[ii, -len(tweet):] = np.array(tweet)[:max_len]\n",
    "\n",
    "    train_data = TensorDataset(torch.from_numpy(train_padded), torch.from_numpy(training_labels))\n",
    "    val_data = TensorDataset(torch.from_numpy(val_padded), torch.from_numpy(val_labels))\n",
    "\n",
    "    train_loader = DataLoader(train_data, shuffle=True, batch_size=batch_size)\n",
    "    val_loader = DataLoader(val_data, shuffle=True, batch_size=batch_size)\n",
    "\n"
   ]
  }
 ],
 "metadata": {
  "kernelspec": {
   "display_name": "twitter_sentiment_analysis-_BlaaxGs",
   "language": "python",
   "name": "python3"
  },
  "language_info": {
   "name": "python",
   "version": "3.11.6"
  }
 },
 "nbformat": 4,
 "nbformat_minor": 2
}
