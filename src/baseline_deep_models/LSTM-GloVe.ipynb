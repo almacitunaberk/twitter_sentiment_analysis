{
 "cells": [
  {
   "cell_type": "code",
   "execution_count": 1,
   "metadata": {},
   "outputs": [],
   "source": [
    "import pandas as pd\n",
    "import numpy as np\n",
    "import json\n",
    "from pprint import pprint\n",
    "import torch\n",
    "import matplotlib.pyplot as plt\n",
    "import torchtext\n",
    "from sklearn.model_selection import train_test_split\n",
    "from torchtext import data\n",
    "import spacy\n",
    "from torchtext import datasets\n",
    "import random\n",
    "import re\n",
    "from torchtext import vocab\n",
    "import torch.nn as nn\n",
    "import torch.optim as optim\n",
    "import time"
   ]
  },
  {
   "cell_type": "code",
   "execution_count": null,
   "metadata": {},
   "outputs": [],
   "source": [
    "input_path = \"/Users/tunaberkalmaci/Downloads/twitter_sentiment_analysis/src/data/processed/processed.csv\"\n",
    "log_path = \"/Users/tunaberkalmaci/Downloads/twitter_sentiment_analysis/src/data/logs\"\n",
    "log_filename = \"logs\"\n",
    "glove_dim = 100\n",
    "glove_path = \"/Users/tunaberkalmaci/Downloads/twitter_sentiment_analysis/src/.vector_cache/glove.twitter.27B.{}.txt\".format(glove_dim)\n",
    "cross_val_rat = 0.2"
   ]
  },
  {
   "cell_type": "code",
   "execution_count": null,
   "metadata": {},
   "outputs": [],
   "source": [
    "embeddings = {}\n",
    "with open(glove_path, \"r\") as f:\n",
    "    for line in f:\n",
    "        word, coefs = line.split(maxsplit=1)\n",
    "        coefs = np.fromstring(coefs, \"f\", sep=\" \")\n",
    "        embeddings[word] = coefs"
   ]
  },
  {
   "cell_type": "code",
   "execution_count": null,
   "metadata": {},
   "outputs": [],
   "source": [
    "df = pd.read_csv(input_path, index=False)\n",
    "df[\"tweet\"] = df[\"tweet\"].apply(lambda x: x.split())"
   ]
  },
  {
   "cell_type": "code",
   "execution_count": null,
   "metadata": {},
   "outputs": [],
   "source": [
    "def text_embed(words):\n",
    "    unknown_indices = []\n",
    "    mean = np.zeros(glove_dim)\n",
    "    for i in range(len(words)):\n",
    "        for words[i] in embeddings:\n",
    "            words[i] = embeddings[words[i]]\n",
    "            mean += words[i]\n",
    "        else:\n",
    "            unknown_indices.append(i)\n",
    "    mean /= len(words) - len(unknown_indices)\n",
    "    for i in unknown_indices:\n",
    "        words[i] = mean\n",
    "\n",
    "    return np.array(words)"
   ]
  },
  {
   "cell_type": "code",
   "execution_count": null,
   "metadata": {},
   "outputs": [],
   "source": [
    "df[\"tweet\"] = df[\"tweet\"].apply(lambda x: text_embed(x))"
   ]
  },
  {
   "cell_type": "code",
   "execution_count": null,
   "metadata": {},
   "outputs": [],
   "source": [
    "mask = np.random.rand(len(df)) > cross_val_rat\n",
    "train_df = df[mask]\n",
    "val_df = df[~mask]"
   ]
  },
  {
   "cell_type": "code",
   "execution_count": null,
   "metadata": {},
   "outputs": [],
   "source": [
    "train_tweets = train_df[\"tweet\"].values\n",
    "train_labels = train_df[\"labels\"].values\n",
    "\n",
    "val_tweets = val_df[\"tweet\"].values\n",
    "val_labels = val_df[\"labels\"].values"
   ]
  },
  {
   "cell_type": "code",
   "execution_count": 2,
   "metadata": {},
   "outputs": [],
   "source": [
    "class BiLSTM(nn.Module):\n",
    "    def __init__(self):\n",
    "        super().__init__()\n",
    "        self.hidden_size = 100\n",
    "        self.input_size = glove_dim\n",
    "        self.num_layers = 10\n",
    "        self.bidirectional = True\n",
    "        self.num_directions = 1\n",
    "        self.dropout1 = nn.Dropout(p=0.2)\n",
    "\n",
    "        if self.bidirectional:\n",
    "            self.num_directions = 2\n",
    "\n",
    "        self.lstm = nn.LSTM(self.input_size, self.hidden_size, self.num_layers, bidirectional=self.bidirectional)\n",
    "        self.fc = nn.Linear(self.hidden_size*self.num_directions, 1)\n",
    "\n",
    "    def forward(self, tweet):\n",
    "        lstm_out, _ = self.lstm(tweet.view(len(tweet), 1, -1))\n",
    "        x = self.dropout1(lstm_out.view(len(tweet), -1))\n",
    "        output = self.fc(x)\n",
    "        pred = torch.sigmoid(output[-1])\n",
    "        return pred"
   ]
  },
  {
   "cell_type": "code",
   "execution_count": null,
   "metadata": {},
   "outputs": [],
   "source": [
    "bilstm = BiLSTM()\n",
    "if torch.cuda.is_available():\n",
    "    bilstm.to(torch.device(\"cuda:0\"))\n",
    "loss_func = nn.BCELoss()\n",
    "optimizer = torch.optim.Adam(bilstm.model_parameters(), lr=0.001)\n",
    "scheduler = torch.optim.lr_scheduler.ExponentialLR(optimizer, gamma=0.1)"
   ]
  },
  {
   "cell_type": "code",
   "execution_count": 3,
   "metadata": {},
   "outputs": [],
   "source": [
    "train_losses = []\n",
    "val_losses = []\n",
    "train_accuracies = []\n",
    "val_accuracies = []\n",
    "\n",
    "for epoch in range(4):\n",
    "    print(\"Epoch: {}\".format(epoch+1))\n",
    "    train_loss = 0\n",
    "    correct = 0\n",
    "    bilstm.train()\n",
    "    for i in range(len(train_tweets)):\n",
    "        bilstm.zero_grad()\n",
    "        tweet = torch.FloatTensor(train_tweets[i])\n",
    "        label = torch.FloatTensor(np.array(train_labels[i]))\n",
    "        if torch.cuda.is_available():\n",
    "            tweet = tweet.cuda()\n",
    "            label = label.cuda()\n",
    "        pred = bilstm(tweet)\n",
    "        loss = loss_func(pred, label)\n",
    "        lambda_param = torch.tensor(0.001)\n",
    "        l2_reg = torch.tensor(0.)\n",
    "\n",
    "        if torch.cuda.is_available():\n",
    "            lambda_param = lambda_param.cuda()\n",
    "            l2_reg = l2_reg.cuda()\n",
    "        for param in bilstm.model_parameters():\n",
    "            if torch.cuda.is_available():\n",
    "                l2_reg += torch.norm(param).cuda()\n",
    "            else:\n",
    "                l2_reg += torch.norm(param)\n",
    "\n",
    "        loss += lambda_param * l2_reg\n",
    "\n",
    "        pred = pred.item()*0.7\n",
    "        if pred > 0.5:\n",
    "            pred = 1\n",
    "        else:\n",
    "            pred = 0\n",
    "\n",
    "        if pred == int(label.item()):\n",
    "            correct += 1\n",
    "\n",
    "        train_loss += loss.item()\n",
    "\n",
    "        optimizer.zero_grad()\n",
    "        loss.backward()\n",
    "        optimizer.step()\n",
    "\n",
    "        if (i+1)%1000 == 0:\n",
    "            print(\"Processed {} tweets out of {}\".format(i+1, len(train_tweets)))\n",
    "    train_losses.append(train_loss/len(train_tweets))\n",
    "    train_accuracies.append(correct / len(train_tweets))\n",
    "\n",
    "    val_loss = 0\n",
    "    correct = 0\n",
    "    bilstm.eval()\n",
    "    with torch.no_grad():\n",
    "        for i in range(len(val_tweets)):\n",
    "            tweet = torch.FloatTensor(val_tweets[i])\n",
    "            label = torch.FloatTensor(val_labels[i])\n",
    "\n",
    "            if torch.cuda.is_available():\n",
    "                tweet = tweet.cuda()\n",
    "                label = label.cuda()\n",
    "\n",
    "            pred = bilstm(tweet)\n",
    "\n",
    "            loss = loss_func(pred, label)\n",
    "            val_loss += loss.item()\n",
    "            pred = pred.item()*0.7\n",
    "\n",
    "            if pred > 0.5:\n",
    "                pred = 1\n",
    "            else:\n",
    "                pred = 0\n",
    "\n",
    "            if pred == int(label.item()):\n",
    "                correct += 1\n",
    "    val_losses.append(val_loss/len(val_tweets))\n",
    "    val_accuracies.append(correct / len(val_tweets))\n",
    "\n",
    "    print(\"Epoch summary\")\n",
    "    print(f'Train Loss: {train_losses[-1]:7.2f}  Train Accuracy: {train_accuracies[-1]*100:6.3f}%')\n",
    "    print(f'Validation Loss: {val_losses[-1]:7.2f}  Validation Accuracy: {val_accuracies[-1]*100:6.3f}%')\n",
    "    print(f'Duration: {time.time() - epoch_start_time:.0f} seconds')\n",
    "    print('')\n",
    "\n",
    "    scheduler.step()"
   ]
  },
  {
   "cell_type": "code",
   "execution_count": 4,
   "metadata": {},
   "outputs": [],
   "source": [
    "x_axis = [i+1 for i in range(len(train_losses))]\n",
    "\n",
    "plt.plot(x_axis, train_losses, label='training loss')\n",
    "plt.plot(x_axis, val_losses, label='validation loss')\n",
    "plt.title('Loss for each epoch')\n",
    "plt.legend();\n",
    "plt.show()\n",
    "\n",
    "plt.plot(x_axis, train_accuracies, label='training accuracy')\n",
    "plt.plot(x_axis, val_accuracies, label='validation accuracy')\n",
    "plt.title('Accuracy for each epoch')\n",
    "plt.legend();\n",
    "plt.show()"
   ]
  }
 ],
 "metadata": {
  "kernelspec": {
   "display_name": "Python 3",
   "language": "python",
   "name": "python3"
  },
  "language_info": {
   "codemirror_mode": {
    "name": "ipython",
    "version": 3
   },
   "file_extension": ".py",
   "mimetype": "text/x-python",
   "name": "python",
   "nbconvert_exporter": "python",
   "pygments_lexer": "ipython3",
   "version": "3.6.6"
  }
 },
 "nbformat": 4,
 "nbformat_minor": 2
}
